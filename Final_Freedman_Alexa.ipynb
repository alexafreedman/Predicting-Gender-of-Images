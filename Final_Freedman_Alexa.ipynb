{
  "nbformat": 4,
  "nbformat_minor": 0,
  "metadata": {
    "colab": {
      "name": "Final_Freedman_Alexa.ipynb",
      "provenance": [],
      "collapsed_sections": []
    },
    "kernelspec": {
      "name": "python3",
      "display_name": "Python 3"
    },
    "language_info": {
      "name": "python"
    },
    "accelerator": "GPU"
  },
  "cells": [
    {
      "cell_type": "markdown",
      "metadata": {
        "id": "mEbXDrgncriP"
      },
      "source": [
        "#**FINAL PROJECT**"
      ]
    },
    {
      "cell_type": "markdown",
      "metadata": {
        "id": "ZkR08sLxc-a-"
      },
      "source": [
        "Link to blog on Medium: https://alexafre.medium.com/predicting-gender-of-images-d217d742a95e"
      ]
    },
    {
      "cell_type": "markdown",
      "metadata": {
        "id": "fFXItMhP6a0A"
      },
      "source": [
        "## Imports"
      ]
    },
    {
      "cell_type": "code",
      "metadata": {
        "colab": {
          "base_uri": "https://localhost:8080/"
        },
        "id": "uxdVdsQV0h9Q",
        "outputId": "d5d9b2d3-82ae-44e3-a2bf-b1f11063aba8"
      },
      "source": [
        "from google.colab import drive\n",
        "drive.mount('/content/drive')"
      ],
      "execution_count": null,
      "outputs": [
        {
          "output_type": "stream",
          "text": [
            "Drive already mounted at /content/drive; to attempt to forcibly remount, call drive.mount(\"/content/drive\", force_remount=True).\n"
          ],
          "name": "stdout"
        }
      ]
    },
    {
      "cell_type": "code",
      "metadata": {
        "id": "FgdlG3b01AGK"
      },
      "source": [
        "import pandas as pd\n",
        "import numpy as np\n",
        "import matplotlib.pyplot as plt\n",
        "from sklearn.model_selection import train_test_split"
      ],
      "execution_count": null,
      "outputs": []
    },
    {
      "cell_type": "code",
      "metadata": {
        "id": "VlERLL8wKJzX"
      },
      "source": [
        "import tensorflow as tf\n",
        "import tensorflow.keras.layers as layers\n",
        "from tensorflow.keras import Sequential\n",
        "from tensorflow.keras.layers import Conv2D, InputLayer, BatchNormalization, MaxPooling2D, Dense, Dropout, Activation, Flatten, Input"
      ],
      "execution_count": null,
      "outputs": []
    },
    {
      "cell_type": "code",
      "metadata": {
        "id": "anZNbGkTw-dx"
      },
      "source": [
        "import torch\n",
        "import torchvision\n",
        "from time import time\n",
        "from torchvision import datasets, transforms\n",
        "from torch import nn, optim\n",
        "from torch.utils import tensorboard\n",
        "from torch.utils.data import  TensorDataset, DataLoader"
      ],
      "execution_count": null,
      "outputs": []
    },
    {
      "cell_type": "markdown",
      "metadata": {
        "id": "iNd1GZ6O6dtF"
      },
      "source": [
        "## Data Loading and Exploration"
      ]
    },
    {
      "cell_type": "markdown",
      "metadata": {
        "id": "872Oep8i6h3e"
      },
      "source": [
        "### Data Analysis"
      ]
    },
    {
      "cell_type": "code",
      "metadata": {
        "id": "ZzWRBLl6MImY",
        "colab": {
          "base_uri": "https://localhost:8080/",
          "height": 419
        },
        "outputId": "a3021362-5f18-4b7b-9e4b-d6398bf92c76"
      },
      "source": [
        "# Start solution here\n",
        "data = pd.read_csv(\"/content/drive/MyDrive/Final Project /age_gender.csv\")\n",
        "data"
      ],
      "execution_count": null,
      "outputs": [
        {
          "output_type": "execute_result",
          "data": {
            "text/html": [
              "<div>\n",
              "<style scoped>\n",
              "    .dataframe tbody tr th:only-of-type {\n",
              "        vertical-align: middle;\n",
              "    }\n",
              "\n",
              "    .dataframe tbody tr th {\n",
              "        vertical-align: top;\n",
              "    }\n",
              "\n",
              "    .dataframe thead th {\n",
              "        text-align: right;\n",
              "    }\n",
              "</style>\n",
              "<table border=\"1\" class=\"dataframe\">\n",
              "  <thead>\n",
              "    <tr style=\"text-align: right;\">\n",
              "      <th></th>\n",
              "      <th>age</th>\n",
              "      <th>ethnicity</th>\n",
              "      <th>gender</th>\n",
              "      <th>img_name</th>\n",
              "      <th>pixels</th>\n",
              "    </tr>\n",
              "  </thead>\n",
              "  <tbody>\n",
              "    <tr>\n",
              "      <th>0</th>\n",
              "      <td>1</td>\n",
              "      <td>2</td>\n",
              "      <td>0</td>\n",
              "      <td>20161219203650636.jpg.chip.jpg</td>\n",
              "      <td>129 128 128 126 127 130 133 135 139 142 145 14...</td>\n",
              "    </tr>\n",
              "    <tr>\n",
              "      <th>1</th>\n",
              "      <td>1</td>\n",
              "      <td>2</td>\n",
              "      <td>0</td>\n",
              "      <td>20161219222752047.jpg.chip.jpg</td>\n",
              "      <td>164 74 111 168 169 171 175 182 184 188 193 199...</td>\n",
              "    </tr>\n",
              "    <tr>\n",
              "      <th>2</th>\n",
              "      <td>1</td>\n",
              "      <td>2</td>\n",
              "      <td>0</td>\n",
              "      <td>20161219222832191.jpg.chip.jpg</td>\n",
              "      <td>67 70 71 70 69 67 70 79 90 103 116 132 145 155...</td>\n",
              "    </tr>\n",
              "    <tr>\n",
              "      <th>3</th>\n",
              "      <td>1</td>\n",
              "      <td>2</td>\n",
              "      <td>0</td>\n",
              "      <td>20161220144911423.jpg.chip.jpg</td>\n",
              "      <td>193 197 198 200 199 200 202 203 204 205 208 21...</td>\n",
              "    </tr>\n",
              "    <tr>\n",
              "      <th>4</th>\n",
              "      <td>1</td>\n",
              "      <td>2</td>\n",
              "      <td>0</td>\n",
              "      <td>20161220144914327.jpg.chip.jpg</td>\n",
              "      <td>202 205 209 210 209 209 210 211 212 214 218 21...</td>\n",
              "    </tr>\n",
              "    <tr>\n",
              "      <th>...</th>\n",
              "      <td>...</td>\n",
              "      <td>...</td>\n",
              "      <td>...</td>\n",
              "      <td>...</td>\n",
              "      <td>...</td>\n",
              "    </tr>\n",
              "    <tr>\n",
              "      <th>23700</th>\n",
              "      <td>99</td>\n",
              "      <td>0</td>\n",
              "      <td>1</td>\n",
              "      <td>20170120221920654.jpg.chip.jpg</td>\n",
              "      <td>127 100 94 81 77 77 74 99 102 98 128 145 160 1...</td>\n",
              "    </tr>\n",
              "    <tr>\n",
              "      <th>23701</th>\n",
              "      <td>99</td>\n",
              "      <td>1</td>\n",
              "      <td>1</td>\n",
              "      <td>20170120134639935.jpg.chip.jpg</td>\n",
              "      <td>23 28 32 35 42 47 68 85 98 103 113 117 130 129...</td>\n",
              "    </tr>\n",
              "    <tr>\n",
              "      <th>23702</th>\n",
              "      <td>99</td>\n",
              "      <td>2</td>\n",
              "      <td>1</td>\n",
              "      <td>20170110182418864.jpg.chip.jpg</td>\n",
              "      <td>59 50 37 40 34 19 30 101 156 170 177 184 187 1...</td>\n",
              "    </tr>\n",
              "    <tr>\n",
              "      <th>23703</th>\n",
              "      <td>99</td>\n",
              "      <td>2</td>\n",
              "      <td>1</td>\n",
              "      <td>20170117195405372.jpg.chip.jpg</td>\n",
              "      <td>45 108 120 156 206 197 140 180 191 199 204 207...</td>\n",
              "    </tr>\n",
              "    <tr>\n",
              "      <th>23704</th>\n",
              "      <td>99</td>\n",
              "      <td>0</td>\n",
              "      <td>1</td>\n",
              "      <td>20170110182052119.jpg.chip.jpg</td>\n",
              "      <td>156 161 160 165 170 173 166 177 183 191 187 18...</td>\n",
              "    </tr>\n",
              "  </tbody>\n",
              "</table>\n",
              "<p>23705 rows × 5 columns</p>\n",
              "</div>"
            ],
            "text/plain": [
              "       age  ...                                             pixels\n",
              "0        1  ...  129 128 128 126 127 130 133 135 139 142 145 14...\n",
              "1        1  ...  164 74 111 168 169 171 175 182 184 188 193 199...\n",
              "2        1  ...  67 70 71 70 69 67 70 79 90 103 116 132 145 155...\n",
              "3        1  ...  193 197 198 200 199 200 202 203 204 205 208 21...\n",
              "4        1  ...  202 205 209 210 209 209 210 211 212 214 218 21...\n",
              "...    ...  ...                                                ...\n",
              "23700   99  ...  127 100 94 81 77 77 74 99 102 98 128 145 160 1...\n",
              "23701   99  ...  23 28 32 35 42 47 68 85 98 103 113 117 130 129...\n",
              "23702   99  ...  59 50 37 40 34 19 30 101 156 170 177 184 187 1...\n",
              "23703   99  ...  45 108 120 156 206 197 140 180 191 199 204 207...\n",
              "23704   99  ...  156 161 160 165 170 173 166 177 183 191 187 18...\n",
              "\n",
              "[23705 rows x 5 columns]"
            ]
          },
          "metadata": {
            "tags": []
          },
          "execution_count": 104
        }
      ]
    },
    {
      "cell_type": "code",
      "metadata": {
        "colab": {
          "base_uri": "https://localhost:8080/"
        },
        "id": "MeINz1bp1lRV",
        "outputId": "68527fb2-7026-4c12-8276-3dbe7e7bb5be"
      },
      "source": [
        "data.info()"
      ],
      "execution_count": null,
      "outputs": [
        {
          "output_type": "stream",
          "text": [
            "<class 'pandas.core.frame.DataFrame'>\n",
            "RangeIndex: 23705 entries, 0 to 23704\n",
            "Data columns (total 5 columns):\n",
            " #   Column     Non-Null Count  Dtype \n",
            "---  ------     --------------  ----- \n",
            " 0   age        23705 non-null  int64 \n",
            " 1   ethnicity  23705 non-null  int64 \n",
            " 2   gender     23705 non-null  int64 \n",
            " 3   img_name   23705 non-null  object\n",
            " 4   pixels     23705 non-null  object\n",
            "dtypes: int64(3), object(2)\n",
            "memory usage: 926.1+ KB\n"
          ],
          "name": "stdout"
        }
      ]
    },
    {
      "cell_type": "code",
      "metadata": {
        "colab": {
          "base_uri": "https://localhost:8080/"
        },
        "id": "zc5wo14_5hba",
        "outputId": "cfb66779-7353-4567-da4b-128da71b47b2"
      },
      "source": [
        "type(data[\"pixels\"][0])"
      ],
      "execution_count": null,
      "outputs": [
        {
          "output_type": "execute_result",
          "data": {
            "text/plain": [
              "str"
            ]
          },
          "metadata": {
            "tags": []
          },
          "execution_count": 106
        }
      ]
    },
    {
      "cell_type": "markdown",
      "metadata": {
        "id": "VvFFXmNv4OhH"
      },
      "source": [
        "There are five columns including age, ethnicity, gender, img_name, and pixels. There are no null values and age, ethnicity, and gender are of integer data type but gender and ethnicity are categorical values. Pixels represents the list of pixels of the particular image but in our dataset it is in the form of a string and needs to be converted to a numpy array."
      ]
    },
    {
      "cell_type": "code",
      "metadata": {
        "id": "cSFwTsq615XZ"
      },
      "source": [
        "data['pixels']=data['pixels'].apply(lambda x:  np.array(x.split(), dtype=\"float32\"))"
      ],
      "execution_count": null,
      "outputs": []
    },
    {
      "cell_type": "code",
      "metadata": {
        "colab": {
          "base_uri": "https://localhost:8080/"
        },
        "id": "iSGkyV8g5KQc",
        "outputId": "12f4713a-0bd0-4996-b93b-06efff535bfa"
      },
      "source": [
        "data.info()"
      ],
      "execution_count": null,
      "outputs": [
        {
          "output_type": "stream",
          "text": [
            "<class 'pandas.core.frame.DataFrame'>\n",
            "RangeIndex: 23705 entries, 0 to 23704\n",
            "Data columns (total 5 columns):\n",
            " #   Column     Non-Null Count  Dtype \n",
            "---  ------     --------------  ----- \n",
            " 0   age        23705 non-null  int64 \n",
            " 1   ethnicity  23705 non-null  int64 \n",
            " 2   gender     23705 non-null  int64 \n",
            " 3   img_name   23705 non-null  object\n",
            " 4   pixels     23705 non-null  object\n",
            "dtypes: int64(3), object(2)\n",
            "memory usage: 926.1+ KB\n"
          ],
          "name": "stdout"
        }
      ]
    },
    {
      "cell_type": "code",
      "metadata": {
        "colab": {
          "base_uri": "https://localhost:8080/"
        },
        "id": "R9N4ixCf5QF7",
        "outputId": "0b62dd88-8f86-47d6-a56d-c4bb183d9174"
      },
      "source": [
        "type(data[\"pixels\"][0])"
      ],
      "execution_count": null,
      "outputs": [
        {
          "output_type": "execute_result",
          "data": {
            "text/plain": [
              "numpy.ndarray"
            ]
          },
          "metadata": {
            "tags": []
          },
          "execution_count": 109
        }
      ]
    },
    {
      "cell_type": "markdown",
      "metadata": {
        "id": "IVBU3hjN5uPE"
      },
      "source": [
        "The pixels column has been changed to a numpy array."
      ]
    },
    {
      "cell_type": "code",
      "metadata": {
        "colab": {
          "base_uri": "https://localhost:8080/",
          "height": 297
        },
        "id": "_UoAEWUg1xlj",
        "outputId": "81c88f97-2e12-414e-bafc-5986e390ceaa"
      },
      "source": [
        "data.describe()"
      ],
      "execution_count": null,
      "outputs": [
        {
          "output_type": "execute_result",
          "data": {
            "text/html": [
              "<div>\n",
              "<style scoped>\n",
              "    .dataframe tbody tr th:only-of-type {\n",
              "        vertical-align: middle;\n",
              "    }\n",
              "\n",
              "    .dataframe tbody tr th {\n",
              "        vertical-align: top;\n",
              "    }\n",
              "\n",
              "    .dataframe thead th {\n",
              "        text-align: right;\n",
              "    }\n",
              "</style>\n",
              "<table border=\"1\" class=\"dataframe\">\n",
              "  <thead>\n",
              "    <tr style=\"text-align: right;\">\n",
              "      <th></th>\n",
              "      <th>age</th>\n",
              "      <th>ethnicity</th>\n",
              "      <th>gender</th>\n",
              "    </tr>\n",
              "  </thead>\n",
              "  <tbody>\n",
              "    <tr>\n",
              "      <th>count</th>\n",
              "      <td>23705.000000</td>\n",
              "      <td>23705.000000</td>\n",
              "      <td>23705.000000</td>\n",
              "    </tr>\n",
              "    <tr>\n",
              "      <th>mean</th>\n",
              "      <td>33.300907</td>\n",
              "      <td>1.269226</td>\n",
              "      <td>0.477283</td>\n",
              "    </tr>\n",
              "    <tr>\n",
              "      <th>std</th>\n",
              "      <td>19.885708</td>\n",
              "      <td>1.345638</td>\n",
              "      <td>0.499494</td>\n",
              "    </tr>\n",
              "    <tr>\n",
              "      <th>min</th>\n",
              "      <td>1.000000</td>\n",
              "      <td>0.000000</td>\n",
              "      <td>0.000000</td>\n",
              "    </tr>\n",
              "    <tr>\n",
              "      <th>25%</th>\n",
              "      <td>23.000000</td>\n",
              "      <td>0.000000</td>\n",
              "      <td>0.000000</td>\n",
              "    </tr>\n",
              "    <tr>\n",
              "      <th>50%</th>\n",
              "      <td>29.000000</td>\n",
              "      <td>1.000000</td>\n",
              "      <td>0.000000</td>\n",
              "    </tr>\n",
              "    <tr>\n",
              "      <th>75%</th>\n",
              "      <td>45.000000</td>\n",
              "      <td>2.000000</td>\n",
              "      <td>1.000000</td>\n",
              "    </tr>\n",
              "    <tr>\n",
              "      <th>max</th>\n",
              "      <td>116.000000</td>\n",
              "      <td>4.000000</td>\n",
              "      <td>1.000000</td>\n",
              "    </tr>\n",
              "  </tbody>\n",
              "</table>\n",
              "</div>"
            ],
            "text/plain": [
              "                age     ethnicity        gender\n",
              "count  23705.000000  23705.000000  23705.000000\n",
              "mean      33.300907      1.269226      0.477283\n",
              "std       19.885708      1.345638      0.499494\n",
              "min        1.000000      0.000000      0.000000\n",
              "25%       23.000000      0.000000      0.000000\n",
              "50%       29.000000      1.000000      0.000000\n",
              "75%       45.000000      2.000000      1.000000\n",
              "max      116.000000      4.000000      1.000000"
            ]
          },
          "metadata": {
            "tags": []
          },
          "execution_count": 110
        }
      ]
    },
    {
      "cell_type": "code",
      "metadata": {
        "colab": {
          "base_uri": "https://localhost:8080/"
        },
        "id": "gESXDy_s58I2",
        "outputId": "4cb79802-7876-4568-eea4-27306c23338f"
      },
      "source": [
        "data.shape"
      ],
      "execution_count": null,
      "outputs": [
        {
          "output_type": "execute_result",
          "data": {
            "text/plain": [
              "(23705, 5)"
            ]
          },
          "metadata": {
            "tags": []
          },
          "execution_count": 111
        }
      ]
    },
    {
      "cell_type": "markdown",
      "metadata": {
        "id": "DjCnfOMG6P3Z"
      },
      "source": [
        "### Data Visualization"
      ]
    },
    {
      "cell_type": "markdown",
      "metadata": {
        "id": "sIF-K0Co6ywv"
      },
      "source": [
        "Age"
      ]
    },
    {
      "cell_type": "code",
      "metadata": {
        "colab": {
          "base_uri": "https://localhost:8080/"
        },
        "id": "PIGqBRv26zzm",
        "outputId": "1c406efc-6c82-4879-9986-1db7b629fa22"
      },
      "source": [
        "age_count = data[\"age\"].value_counts()\n",
        "age_count"
      ],
      "execution_count": null,
      "outputs": [
        {
          "output_type": "execute_result",
          "data": {
            "text/plain": [
              "26     2197\n",
              "1      1123\n",
              "28      918\n",
              "35      880\n",
              "24      859\n",
              "       ... \n",
              "115       3\n",
              "101       2\n",
              "91        2\n",
              "103       1\n",
              "111       1\n",
              "Name: age, Length: 104, dtype: int64"
            ]
          },
          "metadata": {
            "tags": []
          },
          "execution_count": 112
        }
      ]
    },
    {
      "cell_type": "code",
      "metadata": {
        "colab": {
          "base_uri": "https://localhost:8080/",
          "height": 295
        },
        "id": "Z5GtHZYp6OU1",
        "outputId": "e9f23818-d642-4907-a0d8-1c72e682954d"
      },
      "source": [
        "plt.hist(data[\"age\"], bins = max(data['age']))\n",
        "plt.title(\"Histogram of Age\")\n",
        "plt.xlabel(\"Age\")\n",
        "plt.ylabel(\"Count\")\n",
        "plt.show()"
      ],
      "execution_count": null,
      "outputs": [
        {
          "output_type": "display_data",
          "data": {
            "image/png": "[encoded data removed]",
            "text/plain": [
              "<Figure size 432x288 with 1 Axes>"
            ]
          },
          "metadata": {
            "tags": [],
            "needs_background": "light"
          }
        }
      ]
    },
    {
      "cell_type": "markdown",
      "metadata": {
        "id": "t8zGrMvo_HHY"
      },
      "source": [
        "Gender"
      ]
    },
    {
      "cell_type": "code",
      "metadata": {
        "colab": {
          "base_uri": "https://localhost:8080/"
        },
        "id": "p6PK7EYD708q",
        "outputId": "9792b883-f855-49e4-c2be-ee4fa64ad846"
      },
      "source": [
        "gender_count = data[\"gender\"].value_counts()\n",
        "gender_count"
      ],
      "execution_count": null,
      "outputs": [
        {
          "output_type": "execute_result",
          "data": {
            "text/plain": [
              "0    12391\n",
              "1    11314\n",
              "Name: gender, dtype: int64"
            ]
          },
          "metadata": {
            "tags": []
          },
          "execution_count": 114
        }
      ]
    },
    {
      "cell_type": "code",
      "metadata": {
        "colab": {
          "base_uri": "https://localhost:8080/",
          "height": 295
        },
        "id": "bagfeKTJ9r_X",
        "outputId": "28c22425-50bd-4415-b1f3-9e18b553d0db"
      },
      "source": [
        "plt.bar(gender_count.index, gender_count.values)\n",
        "plt.title(\"Bar Graph of Gender\")\n",
        "plt.xlabel(\"Gender\")\n",
        "plt.ylabel(\"Count\")\n",
        "plt.xticks((0,1), labels = [\"Male\", \"Female\"])\n",
        "plt.show()"
      ],
      "execution_count": null,
      "outputs": [
        {
          "output_type": "display_data",
          "data": {
            "image/png": "[encoded data removed]",
            "text/plain": [
              "<Figure size 432x288 with 1 Axes>"
            ]
          },
          "metadata": {
            "tags": [],
            "needs_background": "light"
          }
        }
      ]
    },
    {
      "cell_type": "markdown",
      "metadata": {
        "id": "wFGE5-04GLum"
      },
      "source": [
        "0 = Male, 1 = Female"
      ]
    },
    {
      "cell_type": "markdown",
      "metadata": {
        "id": "FeJK4mi6_D9C"
      },
      "source": [
        "Ethnicity"
      ]
    },
    {
      "cell_type": "code",
      "metadata": {
        "colab": {
          "base_uri": "https://localhost:8080/"
        },
        "id": "ndFNpFWI79ob",
        "outputId": "2db1a3d0-5d56-4b44-b9fa-7cba6ebe0467"
      },
      "source": [
        "ethinicity_count  = data[\"ethnicity\"].value_counts()\n",
        "ethinicity_count"
      ],
      "execution_count": null,
      "outputs": [
        {
          "output_type": "execute_result",
          "data": {
            "text/plain": [
              "0    10078\n",
              "1     4526\n",
              "3     3975\n",
              "2     3434\n",
              "4     1692\n",
              "Name: ethnicity, dtype: int64"
            ]
          },
          "metadata": {
            "tags": []
          },
          "execution_count": 116
        }
      ]
    },
    {
      "cell_type": "code",
      "metadata": {
        "colab": {
          "base_uri": "https://localhost:8080/",
          "height": 337
        },
        "id": "TYJwwcb_-cqW",
        "outputId": "5a1d2694-5531-44f2-cb01-b39cd3f00add"
      },
      "source": [
        "plt.bar(ethinicity_count.index, ethinicity_count.values)\n",
        "plt.title(\"Bar Graph of Ethnicity\")\n",
        "plt.xlabel(\"Ethnicity\")\n",
        "plt.ylabel(\"Count\")\n",
        "plt.xticks([0,1,2,3,4], labels =[\"Caucasian\",\"Black\",\"Asian\",\"Indian\", \"Other\"], rotation = 90)\n",
        "plt.show()"
      ],
      "execution_count": null,
      "outputs": [
        {
          "output_type": "display_data",
          "data": {
            "image/png": "[encoded data removed]",
            "text/plain": [
              "<Figure size 432x288 with 1 Axes>"
            ]
          },
          "metadata": {
            "tags": [],
            "needs_background": "light"
          }
        }
      ]
    },
    {
      "cell_type": "markdown",
      "metadata": {
        "id": "8rdCdC6CGSSf"
      },
      "source": [
        "0 = Caucasian, 1 = Black, 2 = Asian, 3 = Indian, 4 = Other"
      ]
    },
    {
      "cell_type": "markdown",
      "metadata": {
        "id": "YweNd9Lj_CZx"
      },
      "source": [
        "Images"
      ]
    },
    {
      "cell_type": "code",
      "metadata": {
        "colab": {
          "base_uri": "https://localhost:8080/",
          "height": 281
        },
        "id": "lxyESFS0-_O5",
        "outputId": "b9ed5586-eef0-45ed-f099-292a7d8ba9a0"
      },
      "source": [
        "row = 21000\n",
        "plt.imshow(data[\"pixels\"].iloc[row].reshape(48,48))\n",
        "plt.title(\"Age:\" + str(data['age'].iloc[row]) + \" Ethinicity: \" + str(data['ethnicity'].iloc[row]) + \" Gender:\" + str(data['gender'].iloc[row]))\n",
        "plt.show()"
      ],
      "execution_count": null,
      "outputs": [
        {
          "output_type": "display_data",
          "data": {
            "image/png": "[encoded data removed]",
            "text/plain": [
              "<Figure size 432x288 with 1 Axes>"
            ]
          },
          "metadata": {
            "tags": [],
            "needs_background": "light"
          }
        }
      ]
    },
    {
      "cell_type": "code",
      "metadata": {
        "colab": {
          "base_uri": "https://localhost:8080/",
          "height": 735
        },
        "id": "lQElNFv7B_gE",
        "outputId": "4b593fed-babf-4458-864b-06daa06bf4c5"
      },
      "source": [
        "plt.figure(figsize=(16,16))\n",
        "for i in range(0,20):\n",
        "    plt.subplot(5,5,(i%25)+1)\n",
        "    plt.xticks([])\n",
        "    plt.yticks([])\n",
        "    plt.grid(False)\n",
        "    plt.imshow(data['pixels'].iloc[i].reshape(48,48))\n",
        "    plt.xlabel(\n",
        "        \"Age:\"+str(data['age'].iloc[i])+\n",
        "        \"  Ethnicity:\"+str(data['ethnicity'].iloc[i])+\n",
        "        \"  Gender:\"+ str(data['gender'].iloc[i])\n",
        "    )\n",
        "plt.show()\n"
      ],
      "execution_count": null,
      "outputs": [
        {
          "output_type": "display_data",
          "data": {
            "image/png": "[encoded data removed]",
            "text/plain": [
              "<Figure size 1152x1152 with 20 Axes>"
            ]
          },
          "metadata": {
            "tags": []
          }
        }
      ]
    },
    {
      "cell_type": "markdown",
      "metadata": {
        "id": "6r1qNH_tcpoS"
      },
      "source": [
        "## PyTorch Model"
      ]
    },
    {
      "cell_type": "markdown",
      "metadata": {
        "id": "ZYyUcQujONcK"
      },
      "source": [
        "Predicting gender"
      ]
    },
    {
      "cell_type": "markdown",
      "metadata": {
        "id": "4vzQTkoMVDyA"
      },
      "source": [
        "### Data Splitting"
      ]
    },
    {
      "cell_type": "code",
      "metadata": {
        "id": "ywOghnpV8fGe"
      },
      "source": [
        "y = data[\"gender\"]\n",
        "temp = np.array(data[\"pixels\"].tolist())\n",
        "X = temp.reshape(temp.shape[0], 1, 48, 48)"
      ],
      "execution_count": null,
      "outputs": []
    },
    {
      "cell_type": "code",
      "metadata": {
        "id": "etAGfOjU8kgc"
      },
      "source": [
        "X_train, X_test, y_train, y_test = train_test_split(\n",
        "    X, y, test_size=0.2, random_state=42)"
      ],
      "execution_count": null,
      "outputs": []
    },
    {
      "cell_type": "code",
      "metadata": {
        "id": "voUaHoCkx4Gb"
      },
      "source": [
        "y_train = np.array(y_train)\n",
        "y_test = np.array(y_test)"
      ],
      "execution_count": null,
      "outputs": []
    },
    {
      "cell_type": "markdown",
      "metadata": {
        "id": "ojIuHg7jVQTb"
      },
      "source": [
        "### Data Loader"
      ]
    },
    {
      "cell_type": "code",
      "metadata": {
        "id": "1u_KX7eXx9dp"
      },
      "source": [
        "trainset = TensorDataset(torch.Tensor(X_train), torch.tensor(y_train))\n",
        "valset = TensorDataset(torch.Tensor(X_test), torch.tensor(y_test))\n",
        "trainloader = torch.utils.data.DataLoader(trainset, batch_size=64, shuffle=True)\n",
        "valloader = torch.utils.data.DataLoader(valset, batch_size=64, shuffle=True)\n"
      ],
      "execution_count": null,
      "outputs": []
    },
    {
      "cell_type": "code",
      "metadata": {
        "colab": {
          "base_uri": "https://localhost:8080/"
        },
        "id": "d225htAGyCf_",
        "outputId": "84b065a1-5b40-4517-935b-e4f42ad66f9f"
      },
      "source": [
        "dataiter = iter(trainloader)\n",
        "images, labels = dataiter.next()\n",
        "\n",
        "print(images.shape)\n",
        "print(labels.shape)"
      ],
      "execution_count": null,
      "outputs": [
        {
          "output_type": "stream",
          "text": [
            "torch.Size([64, 1, 48, 48])\n",
            "torch.Size([64])\n"
          ],
          "name": "stdout"
        }
      ]
    },
    {
      "cell_type": "markdown",
      "metadata": {
        "id": "iCfs_RJjVTNT"
      },
      "source": [
        "### Model Architecture"
      ]
    },
    {
      "cell_type": "markdown",
      "metadata": {
        "id": "UnDziGZrVXhG"
      },
      "source": [
        "#### 1"
      ]
    },
    {
      "cell_type": "code",
      "metadata": {
        "id": "Ch2noA3s5oLR"
      },
      "source": [
        "# class Model2(nn.Module):\n",
        "#   def __init__(self):\n",
        "#     super(Model2, self).__init__()\n",
        "#     self.layers =  nn.Sequential(nn.Conv2d(1, 32, kernel_size = 3, stride = 1, padding = 1),\n",
        "#             nn.MaxPool2d(kernel_size = 3, stride = 2, padding = 1), #24\n",
        "#             nn.LeakyReLU(),\n",
        "#             nn.Conv2d(32, 64, kernel_size = 3, stride = 1, padding = 1),\n",
        "#             nn.MaxPool2d(kernel_size = 3, stride = 2, padding = 1), #12\n",
        "#             nn.LeakyReLU(),\n",
        "#             nn.Conv2d(64, 128, kernel_size = 3, stride = 1, padding = 1),\n",
        "#             nn.MaxPool2d(kernel_size = 3, stride = 2, padding = 1), #6\n",
        "#             nn.LeakyReLU(),\n",
        "#             nn.Conv2d(128, 256, kernel_size = 3, stride = 1, padding = 1),\n",
        "#             nn.MaxPool2d(kernel_size = 3, stride = 2, padding = 1),\n",
        "#             #nn.LeakyReLU(),\n",
        "#             nn.AdaptiveAvgPool2d((1,1)),\n",
        "#             nn.Flatten(),\n",
        "#             nn.Linear(256, 128),\n",
        "#             nn.ReLU(),\n",
        "#             nn.Linear(128, 64),\n",
        "#             nn.LeakyReLU(),\n",
        "#             nn.Linear(64, 32),\n",
        "#             nn.LeakyReLU(),\n",
        "#             nn.Linear(32,5))\n",
        "#   def forward(self, x):\n",
        "#       return self.layers(x)"
      ],
      "execution_count": null,
      "outputs": []
    },
    {
      "cell_type": "markdown",
      "metadata": {
        "id": "Xqo2A0dIVZKk"
      },
      "source": [
        "#### 2"
      ]
    },
    {
      "cell_type": "code",
      "metadata": {
        "id": "tESE6JAqQc-p"
      },
      "source": [
        "class Model2(nn.Module):\n",
        "  def __init__(self):\n",
        "    super(Model2, self).__init__()\n",
        "    self.layers =  nn.Sequential(nn.Conv2d(1, 32, kernel_size = 3),\n",
        "            nn.ReLU(),\n",
        "            nn.BatchNorm2d(32),\n",
        "            nn.MaxPool2d(kernel_size = 2), \n",
        "            nn.Conv2d(32, 64, kernel_size = 3),\n",
        "            nn.ReLU(),\n",
        "            nn.MaxPool2d(kernel_size = 2), \n",
        "            nn.Flatten())\n",
        "    self.linear = nn.Sequential(\n",
        "            nn.Linear(6400,512),\n",
        "            nn.ReLU(),\n",
        "            nn.Dropout(0.15),\n",
        "            nn.Linear(512, 128),\n",
        "            nn.ReLU(),\n",
        "            nn.Dropout(0.15),\n",
        "            nn.Linear(128, 64),\n",
        "            nn.ReLU(),\n",
        "            nn.Dropout(0.15),\n",
        "            nn.Linear(64,5))\n",
        "  def forward(self, x):\n",
        "      x = self.layers(x)\n",
        "      return self.linear(x)"
      ],
      "execution_count": null,
      "outputs": []
    },
    {
      "cell_type": "markdown",
      "metadata": {
        "id": "TSDBMmnpValT"
      },
      "source": [
        "### Training"
      ]
    },
    {
      "cell_type": "code",
      "metadata": {
        "colab": {
          "base_uri": "https://localhost:8080/"
        },
        "id": "pzYGxCbgtM7Q",
        "outputId": "a1fecea9-9a8f-4ac1-f1c5-1e3dea6f861a"
      },
      "source": [
        "model2 = Model2()\n",
        "model2 = model2.to('cuda')\n",
        "criterion = nn.CrossEntropyLoss()\n",
        "images, labels = next(iter(trainloader))\n",
        "images = images.to('cuda')\n",
        "labels = labels.to('cuda')\n",
        "logps = model2(images) \n",
        "\n",
        "loss = criterion(logps, labels) \n",
        "\n",
        "optimizer = torch.optim.RMSprop(model2.parameters(), lr = 0.001)\n",
        "writer = tensorboard.SummaryWriter()\n",
        "time0 = time()\n",
        "epochs = 50\n",
        "loss_list = []\n",
        "epoch_list = []\n",
        "for e in range(epochs):\n",
        "    running_loss = 0\n",
        "    for images, labels in trainloader:\n",
        "        model2.to('cuda')\n",
        "        optimizer.zero_grad()\n",
        "        images = images.to('cuda')\n",
        "        labels = labels.to('cuda')\n",
        "        output = model2(images)\n",
        "        real_out = []\n",
        "        loss = criterion(output, labels)\n",
        "\n",
        "        writer.add_scalar(\"Loss/train\", loss, e)\n",
        "        loss.backward()\n",
        "        optimizer.step()\n",
        "        running_loss += loss.item()\n",
        "    else:\n",
        "        print(\"Epoch {} - Training loss: {}\".format(e, running_loss/len(trainloader)))\n",
        "        loss_list.append(running_loss/len(trainloader))\n",
        "        epoch_list.append(e)\n",
        "print(\"\\nTraining Time (in minutes) =\",(time()-time0)/60)"
      ],
      "execution_count": null,
      "outputs": [
        {
          "output_type": "stream",
          "text": [
            "Epoch 0 - Training loss: 0.5464604002257389\n",
            "Epoch 1 - Training loss: 0.29059501273262783\n",
            "Epoch 2 - Training loss: 0.2519382390911732\n",
            "Epoch 3 - Training loss: 0.21262822232463144\n",
            "Epoch 4 - Training loss: 0.19179562105474246\n",
            "Epoch 5 - Training loss: 0.16715552867311823\n",
            "Epoch 6 - Training loss: 0.14668953111426597\n",
            "Epoch 7 - Training loss: 0.1267227875978156\n",
            "Epoch 8 - Training loss: 0.10807778620747505\n",
            "Epoch 9 - Training loss: 0.09350860622783602\n",
            "Epoch 10 - Training loss: 0.08137073316407525\n",
            "Epoch 11 - Training loss: 0.07183116110455659\n",
            "Epoch 12 - Training loss: 0.06823758277430604\n",
            "Epoch 13 - Training loss: 0.05960393765226307\n",
            "Epoch 14 - Training loss: 0.05904787448344608\n",
            "Epoch 15 - Training loss: 0.050327281731020926\n",
            "Epoch 16 - Training loss: 0.0418476510010205\n",
            "Epoch 17 - Training loss: 0.04784428682068507\n",
            "Epoch 18 - Training loss: 0.0417248100769057\n",
            "Epoch 19 - Training loss: 0.040802254310969\n",
            "Epoch 20 - Training loss: 0.034648252212480087\n",
            "Epoch 21 - Training loss: 0.03490802893408822\n",
            "Epoch 22 - Training loss: 0.032713262724195474\n",
            "Epoch 23 - Training loss: 0.033615042716448953\n",
            "Epoch 24 - Training loss: 0.03379498932604491\n",
            "Epoch 25 - Training loss: 0.029884166955776975\n",
            "Epoch 26 - Training loss: 0.028970616419419365\n",
            "Epoch 27 - Training loss: 0.027913120963505726\n",
            "Epoch 28 - Training loss: 0.026644062925605786\n",
            "Epoch 29 - Training loss: 0.027633624607211086\n",
            "Epoch 30 - Training loss: 0.02161347534452294\n",
            "Epoch 31 - Training loss: 0.029828184271555258\n",
            "Epoch 32 - Training loss: 0.020566157001416202\n",
            "Epoch 33 - Training loss: 0.026676687297728954\n",
            "Epoch 34 - Training loss: 0.02479704158641386\n",
            "Epoch 35 - Training loss: 0.022221192369041166\n",
            "Epoch 36 - Training loss: 0.020018812062749834\n",
            "Epoch 37 - Training loss: 0.025512609948564448\n",
            "Epoch 38 - Training loss: 0.02119953038430688\n",
            "Epoch 39 - Training loss: 0.02237851816158943\n",
            "Epoch 40 - Training loss: 0.020631410516571642\n",
            "Epoch 41 - Training loss: 0.022697427876692294\n",
            "Epoch 42 - Training loss: 0.02053409197865237\n",
            "Epoch 43 - Training loss: 0.019204214399452833\n",
            "Epoch 44 - Training loss: 0.0179059197215416\n",
            "Epoch 45 - Training loss: 0.021365999380240856\n",
            "Epoch 46 - Training loss: 0.020764808368491657\n",
            "Epoch 47 - Training loss: 0.018973894529916272\n",
            "Epoch 48 - Training loss: 0.01825260940262622\n",
            "Epoch 49 - Training loss: 0.01810108246454639\n",
            "\n",
            "Training Time (in minutes) = 2.0396863420804343\n"
          ],
          "name": "stdout"
        }
      ]
    },
    {
      "cell_type": "markdown",
      "metadata": {
        "id": "-NAKhLIoVkkX"
      },
      "source": [
        "### Predicting"
      ]
    },
    {
      "cell_type": "code",
      "metadata": {
        "colab": {
          "base_uri": "https://localhost:8080/"
        },
        "id": "sxhC-spMxMpN",
        "outputId": "a4a6cd89-bd8f-41ba-dd15-fc88dd8a5502"
      },
      "source": [
        "correct_count, all_count = 0, 0\n",
        "\n",
        "for images,labels in valloader:\n",
        "  images.to('cuda')\n",
        "  labels.to('cuda')\n",
        "  for i in range(len(labels)):\n",
        "    img = images\n",
        "    with torch.no_grad():\n",
        "        img = img.to('cuda')\n",
        "        model2 = model2.to('cuda')\n",
        "        logps = model2(img)  \n",
        "        labels.to('cuda') \n",
        "    pred_label = torch.argmax(logps[0]).item()    \n",
        "    true_label = labels.numpy()[i]\n",
        "    if(true_label == pred_label):\n",
        "      correct_count += 1\n",
        "    all_count += 1\n",
        "\n",
        "print(\"Number Of Images Tested =\", all_count)\n",
        "print(\"\\nModel Accuracy =\", (correct_count/all_count))"
      ],
      "execution_count": null,
      "outputs": [
        {
          "output_type": "stream",
          "text": [
            "Number Of Images Tested = 4741\n",
            "\n",
            "Model Accuracy = 0.5119173170217254\n"
          ],
          "name": "stdout"
        }
      ]
    },
    {
      "cell_type": "markdown",
      "metadata": {
        "id": "RlTVLzcYGezH"
      },
      "source": [
        "## Keras Model"
      ]
    },
    {
      "cell_type": "markdown",
      "metadata": {
        "id": "ZkOk6huBITB0"
      },
      "source": [
        "Predicting gender."
      ]
    },
    {
      "cell_type": "markdown",
      "metadata": {
        "id": "_NkcANdDGjVb"
      },
      "source": [
        "### Split the data "
      ]
    },
    {
      "cell_type": "code",
      "metadata": {
        "id": "GYODIISDGpCh"
      },
      "source": [
        "y = data[\"gender\"]\n",
        "temp = np.array(data[\"pixels\"].tolist())\n",
        "X = temp.reshape(temp.shape[0], 48, 48, 1)"
      ],
      "execution_count": null,
      "outputs": []
    },
    {
      "cell_type": "code",
      "metadata": {
        "id": "PMvLx3WbIhfl"
      },
      "source": [
        "X_train, X_test, y_train, y_test = train_test_split(\n",
        "    X, y, test_size=0.2, random_state=42)"
      ],
      "execution_count": null,
      "outputs": []
    },
    {
      "cell_type": "markdown",
      "metadata": {
        "id": "Iuzd1UVgJThN"
      },
      "source": [
        "### Model Architecture"
      ]
    },
    {
      "cell_type": "code",
      "metadata": {
        "id": "667qEdXpJb2N"
      },
      "source": [
        "model = Sequential()"
      ],
      "execution_count": null,
      "outputs": []
    },
    {
      "cell_type": "code",
      "metadata": {
        "id": "9QktN3uyLNUd"
      },
      "source": [
        "model.add(InputLayer(input_shape=(48,48,1)))\n",
        "model.add(Conv2D(filters = 32,kernel_size=(3,3), input_shape=(32,32,3)))\n",
        "model.add(Activation('relu'))\n",
        "model.add(BatchNormalization())\n",
        "model.add(MaxPooling2D(pool_size=(2,2)))\n",
        "model.add(Conv2D(filters = 64, kernel_size = (3,3)))\n",
        "model.add(Activation('relu'))\n",
        "model.add(MaxPooling2D(pool_size=(2,2)))\n",
        "model.add(Flatten())\n",
        "model.add(Dense(units = 512))\n",
        "model.add(Activation('relu'))\n",
        "model.add(Dropout(rate=0.2))\n",
        "model.add(Dense(units = 256))\n",
        "model.add(Activation('relu'))\n",
        "model.add(Dropout(rate=0.2))\n",
        "model.add(Dense(units = 128))\n",
        "model.add(Activation('relu'))\n",
        "model.add(Dropout(rate=0.2))\n",
        "model.add(Dense(units = 64))\n",
        "model.add(Activation('relu'))\n",
        "model.add(Dropout(rate=0.2))\n",
        "model.add(Dense(5))"
      ],
      "execution_count": null,
      "outputs": []
    },
    {
      "cell_type": "code",
      "metadata": {
        "colab": {
          "base_uri": "https://localhost:8080/"
        },
        "id": "LXgaQbHWQB7_",
        "outputId": "b5316996-a646-40cf-aa0b-2fe6ab9c5285"
      },
      "source": [
        "model.summary()"
      ],
      "execution_count": null,
      "outputs": [
        {
          "output_type": "stream",
          "text": [
            "Model: \"sequential_9\"\n",
            "_________________________________________________________________\n",
            "Layer (type)                 Output Shape              Param #   \n",
            "=================================================================\n",
            "conv2d_15 (Conv2D)           (None, 46, 46, 32)        320       \n",
            "_________________________________________________________________\n",
            "activation_42 (Activation)   (None, 46, 46, 32)        0         \n",
            "_________________________________________________________________\n",
            "batch_normalization_7 (Batch (None, 46, 46, 32)        128       \n",
            "_________________________________________________________________\n",
            "max_pooling2d_14 (MaxPooling (None, 23, 23, 32)        0         \n",
            "_________________________________________________________________\n",
            "conv2d_16 (Conv2D)           (None, 21, 21, 64)        18496     \n",
            "_________________________________________________________________\n",
            "activation_43 (Activation)   (None, 21, 21, 64)        0         \n",
            "_________________________________________________________________\n",
            "max_pooling2d_15 (MaxPooling (None, 10, 10, 64)        0         \n",
            "_________________________________________________________________\n",
            "flatten_7 (Flatten)          (None, 6400)              0         \n",
            "_________________________________________________________________\n",
            "dense_35 (Dense)             (None, 512)               3277312   \n",
            "_________________________________________________________________\n",
            "activation_44 (Activation)   (None, 512)               0         \n",
            "_________________________________________________________________\n",
            "dropout_28 (Dropout)         (None, 512)               0         \n",
            "_________________________________________________________________\n",
            "dense_36 (Dense)             (None, 256)               131328    \n",
            "_________________________________________________________________\n",
            "activation_45 (Activation)   (None, 256)               0         \n",
            "_________________________________________________________________\n",
            "dropout_29 (Dropout)         (None, 256)               0         \n",
            "_________________________________________________________________\n",
            "dense_37 (Dense)             (None, 128)               32896     \n",
            "_________________________________________________________________\n",
            "activation_46 (Activation)   (None, 128)               0         \n",
            "_________________________________________________________________\n",
            "dropout_30 (Dropout)         (None, 128)               0         \n",
            "_________________________________________________________________\n",
            "dense_38 (Dense)             (None, 64)                8256      \n",
            "_________________________________________________________________\n",
            "activation_47 (Activation)   (None, 64)                0         \n",
            "_________________________________________________________________\n",
            "dropout_31 (Dropout)         (None, 64)                0         \n",
            "_________________________________________________________________\n",
            "dense_39 (Dense)             (None, 5)                 325       \n",
            "=================================================================\n",
            "Total params: 3,469,061\n",
            "Trainable params: 3,468,997\n",
            "Non-trainable params: 64\n",
            "_________________________________________________________________\n"
          ],
          "name": "stdout"
        }
      ]
    },
    {
      "cell_type": "markdown",
      "metadata": {
        "id": "5XCIJomDP2y2"
      },
      "source": [
        "### Training"
      ]
    },
    {
      "cell_type": "code",
      "metadata": {
        "colab": {
          "base_uri": "https://localhost:8080/"
        },
        "id": "a9Nz-xVzS--e",
        "outputId": "c5edb323-e785-4099-bce0-716a760db2d5"
      },
      "source": [
        "X_train.shape"
      ],
      "execution_count": null,
      "outputs": [
        {
          "output_type": "execute_result",
          "data": {
            "text/plain": [
              "(18964, 48, 48, 1)"
            ]
          },
          "metadata": {
            "tags": []
          },
          "execution_count": 175
        }
      ]
    },
    {
      "cell_type": "code",
      "metadata": {
        "colab": {
          "base_uri": "https://localhost:8080/"
        },
        "id": "5LqnptLWTC0W",
        "outputId": "502b4398-7714-4ea1-ca8a-985db36b5baf"
      },
      "source": [
        "y_train.shape"
      ],
      "execution_count": null,
      "outputs": [
        {
          "output_type": "execute_result",
          "data": {
            "text/plain": [
              "(18964,)"
            ]
          },
          "metadata": {
            "tags": []
          },
          "execution_count": 176
        }
      ]
    },
    {
      "cell_type": "code",
      "metadata": {
        "colab": {
          "base_uri": "https://localhost:8080/"
        },
        "id": "9u9m3tTKP1re",
        "outputId": "0f36a316-e96e-4902-a090-eea77a9bdc6f"
      },
      "source": [
        "model.compile(optimizer=\"rmsprop\",loss=tf.keras.losses.SparseCategoricalCrossentropy(from_logits=True),metrics=[\"accuracy\"])\n",
        "hist = model.fit(X_train, y_train, epochs=10, validation_split=0.1, batch_size= 64, callbacks=[tf.keras.callbacks.ModelCheckpoint('model.hdf5', monitor='val_loss', save_best_only=True, verbose=1)])"
      ],
      "execution_count": null,
      "outputs": [
        {
          "output_type": "stream",
          "text": [
            "Epoch 1/10\n",
            "267/267 [==============================] - 4s 10ms/step - loss: 1.0283 - accuracy: 0.6500 - val_loss: 0.3131 - val_accuracy: 0.8540\n",
            "\n",
            "Epoch 00001: val_loss improved from inf to 0.31310, saving model to model.hdf5\n",
            "Epoch 2/10\n",
            "267/267 [==============================] - 3s 9ms/step - loss: 0.3407 - accuracy: 0.8535 - val_loss: 0.3560 - val_accuracy: 0.8540\n",
            "\n",
            "Epoch 00002: val_loss did not improve from 0.31310\n",
            "Epoch 3/10\n",
            "267/267 [==============================] - 3s 9ms/step - loss: 0.2828 - accuracy: 0.8837 - val_loss: 0.3126 - val_accuracy: 0.8730\n",
            "\n",
            "Epoch 00003: val_loss improved from 0.31310 to 0.31262, saving model to model.hdf5\n",
            "Epoch 4/10\n",
            "267/267 [==============================] - 2s 9ms/step - loss: 0.2589 - accuracy: 0.9036 - val_loss: 0.2721 - val_accuracy: 0.8830\n",
            "\n",
            "Epoch 00004: val_loss improved from 0.31262 to 0.27211, saving model to model.hdf5\n",
            "Epoch 5/10\n",
            "267/267 [==============================] - 3s 9ms/step - loss: 0.2194 - accuracy: 0.9161 - val_loss: 0.2841 - val_accuracy: 0.8766\n",
            "\n",
            "Epoch 00005: val_loss did not improve from 0.27211\n",
            "Epoch 6/10\n",
            "267/267 [==============================] - 3s 9ms/step - loss: 0.2083 - accuracy: 0.9228 - val_loss: 0.3172 - val_accuracy: 0.8898\n",
            "\n",
            "Epoch 00006: val_loss did not improve from 0.27211\n",
            "Epoch 7/10\n",
            "267/267 [==============================] - 2s 9ms/step - loss: 0.1897 - accuracy: 0.9339 - val_loss: 0.4109 - val_accuracy: 0.8877\n",
            "\n",
            "Epoch 00007: val_loss did not improve from 0.27211\n",
            "Epoch 8/10\n",
            "267/267 [==============================] - 2s 9ms/step - loss: 0.1996 - accuracy: 0.9336 - val_loss: 0.4680 - val_accuracy: 0.8867\n",
            "\n",
            "Epoch 00008: val_loss did not improve from 0.27211\n",
            "Epoch 9/10\n",
            "267/267 [==============================] - 2s 9ms/step - loss: 0.1649 - accuracy: 0.9437 - val_loss: 0.4451 - val_accuracy: 0.8935\n",
            "\n",
            "Epoch 00009: val_loss did not improve from 0.27211\n",
            "Epoch 10/10\n",
            "267/267 [==============================] - 2s 9ms/step - loss: 0.1738 - accuracy: 0.9403 - val_loss: 0.4242 - val_accuracy: 0.9025\n",
            "\n",
            "Epoch 00010: val_loss did not improve from 0.27211\n"
          ],
          "name": "stdout"
        }
      ]
    },
    {
      "cell_type": "markdown",
      "metadata": {
        "id": "ZI4xkbb5VhOP"
      },
      "source": [
        "### Predicting"
      ]
    },
    {
      "cell_type": "code",
      "metadata": {
        "id": "4Lbohb3cWIpW"
      },
      "source": [
        "y_pred = model.predict(X_test)"
      ],
      "execution_count": null,
      "outputs": []
    },
    {
      "cell_type": "code",
      "metadata": {
        "colab": {
          "base_uri": "https://localhost:8080/"
        },
        "id": "It4fbe99YQkh",
        "outputId": "dc198640-8176-4a2d-9157-49b2b1360014"
      },
      "source": [
        "model.evaluate(X_test, y_test)"
      ],
      "execution_count": null,
      "outputs": [
        {
          "output_type": "stream",
          "text": [
            "149/149 [==============================] - 0s 3ms/step - loss: 0.3247 - accuracy: 0.8914\n"
          ],
          "name": "stdout"
        },
        {
          "output_type": "execute_result",
          "data": {
            "text/plain": [
              "[0.32472845911979675, 0.8913731575012207]"
            ]
          },
          "metadata": {
            "tags": []
          },
          "execution_count": 179
        }
      ]
    },
    {
      "cell_type": "markdown",
      "metadata": {
        "id": "IyhZiYdAA01K"
      },
      "source": [
        "###Training History"
      ]
    },
    {
      "cell_type": "code",
      "metadata": {
        "colab": {
          "base_uri": "https://localhost:8080/",
          "height": 295
        },
        "id": "VKapG3b9X-1k",
        "outputId": "ea5fc0e3-ea3b-4459-d8d1-72433bf14f66"
      },
      "source": [
        "plt.plot(hist.history[\"accuracy\"])\n",
        "plt.plot(hist.history[\"val_accuracy\"])\n",
        "plt.title(\"Keras Model Accuracy\")\n",
        "plt.ylabel(\"Accuracy\")\n",
        "plt.xlabel(\"Epoch\")\n",
        "plt.legend(['train', 'test'], loc='upper left')\n",
        "plt.show()"
      ],
      "execution_count": null,
      "outputs": [
        {
          "output_type": "display_data",
          "data": {
            "image/png": "[encoded data removed]",
            "text/plain": [
              "<Figure size 432x288 with 1 Axes>"
            ]
          },
          "metadata": {
            "tags": [],
            "needs_background": "light"
          }
        }
      ]
    },
    {
      "cell_type": "code",
      "metadata": {
        "colab": {
          "base_uri": "https://localhost:8080/",
          "height": 312
        },
        "id": "tuU2QKNjyT01",
        "outputId": "2ed3458e-2785-474c-fac0-75445c9a6a32"
      },
      "source": [
        "plt.plot(hist.history[\"loss\"])\n",
        "plt.plot(hist.history[\"val_loss\"])\n",
        "plt.title(\"Keras Model Loss\")\n",
        "plt.xlabel(\"Epoch\")\n",
        "plt.ylabel(\"Loss\")\n",
        "plt.legend(['train', 'test'], loc='upper left')\n",
        "plt.plot()"
      ],
      "execution_count": null,
      "outputs": [
        {
          "output_type": "execute_result",
          "data": {
            "text/plain": [
              "[]"
            ]
          },
          "metadata": {
            "tags": []
          },
          "execution_count": 181
        },
        {
          "output_type": "display_data",
          "data": {
            "image/png": "[encoded data removed]",
            "text/plain": [
              "<Figure size 432x288 with 1 Axes>"
            ]
          },
          "metadata": {
            "tags": [],
            "needs_background": "light"
          }
        }
      ]
    },
    {
      "cell_type": "code",
      "metadata": {
        "colab": {
          "base_uri": "https://localhost:8080/",
          "height": 295
        },
        "id": "1QYnfOkf-7O-",
        "outputId": "f71a7860-296e-4bc8-d16b-25101052c32d"
      },
      "source": [
        "plt.plot(hist.history[\"loss\"])\n",
        "plt.title(\"Keras Model Loss\")\n",
        "plt.xlabel(\"Epoch\")\n",
        "plt.ylabel(\"Loss\")\n",
        "plt.show()"
      ],
      "execution_count": null,
      "outputs": [
        {
          "output_type": "display_data",
          "data": {
            "image/png": "[encoded data removed]",
            "text/plain": [
              "<Figure size 432x288 with 1 Axes>"
            ]
          },
          "metadata": {
            "tags": [],
            "needs_background": "light"
          }
        }
      ]
    },
    {
      "cell_type": "code",
      "metadata": {
        "colab": {
          "base_uri": "https://localhost:8080/",
          "height": 312
        },
        "id": "11qoYnJC-244",
        "outputId": "b0bf5494-dcc3-4650-afb4-cead7513008f"
      },
      "source": [
        "plt.plot(epoch_list[:10], loss_list[:10])\n",
        "plt.title(\"PyTorch Model Loss\")\n",
        "plt.xlabel(\"Epoch\")\n",
        "plt.ylabel(\"Loss\")\n",
        "plt.plot()"
      ],
      "execution_count": null,
      "outputs": [
        {
          "output_type": "execute_result",
          "data": {
            "text/plain": [
              "[]"
            ]
          },
          "metadata": {
            "tags": []
          },
          "execution_count": 184
        },
        {
          "output_type": "display_data",
          "data": {
            "image/png": "[encoded data removed]",
            "text/plain": [
              "<Figure size 432x288 with 1 Axes>"
            ]
          },
          "metadata": {
            "tags": [],
            "needs_background": "light"
          }
        }
      ]
    },
    {
      "cell_type": "markdown",
      "metadata": {
        "id": "JnaptMBW_wjv"
      },
      "source": [
        "The PyTorch model is overfitting, as seen from the training loss and the test accuracy. Even though the training loss is decreasing, the accuracy is still at .51 for that model. For the Keras model, the accuracy is .89 even though the training loss is not as low as the PyTorch model. Therefore, I selected the Keras model as the most promising model for gender prediction."
      ]
    }
  ]
}